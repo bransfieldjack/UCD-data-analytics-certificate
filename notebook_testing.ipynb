{
 "cells": [
  {
   "cell_type": "code",
   "execution_count": null,
   "id": "partial-gazette",
   "metadata": {},
   "outputs": [],
   "source": [
    "!pip install pandas, requests, json, matplotlib"
   ]
  },
  {
   "cell_type": "code",
   "execution_count": null,
   "id": "functioning-jimmy",
   "metadata": {
    "scrolled": true
   },
   "outputs": [],
   "source": [
    "import requests, json\n",
    "import pandas as pd\n",
    "import matplotlib.pyplot as plt"
   ]
  },
  {
   "cell_type": "code",
   "execution_count": 6,
   "id": "vertical-bailey",
   "metadata": {},
   "outputs": [],
   "source": [
    "# specify the required format of the data requested from the api\n",
    "headers = {\n",
    "    \"Content-type\": \"application/json\",\n",
    "    \"Content-Type\": \"application/json;charset=UTF-8\",\n",
    "}"
   ]
  },
  {
   "cell_type": "code",
   "execution_count": 7,
   "id": "organized-visitor",
   "metadata": {},
   "outputs": [],
   "source": [
    "# make the request\n",
    "request = requests.get(\"https://global-warming.org/api/co2-api\", headers=headers)"
   ]
  },
  {
   "cell_type": "code",
   "execution_count": 8,
   "id": "emotional-irish",
   "metadata": {},
   "outputs": [],
   "source": [
    "# assign the json result to a variable called 'data'\n",
    "data = request.json()"
   ]
  },
  {
   "cell_type": "code",
   "execution_count": 9,
   "id": "distributed-spencer",
   "metadata": {},
   "outputs": [
    {
     "name": "stdout",
     "output_type": "stream",
     "text": [
      "<class 'dict'>\n"
     ]
    }
   ],
   "source": [
    "# confirm the data has the expected type\n",
    "print(type(data))"
   ]
  },
  {
   "cell_type": "code",
   "execution_count": 10,
   "id": "celtic-shanghai",
   "metadata": {},
   "outputs": [],
   "source": [
    "# coerce the data into a dataframe\n",
    "df = pd.DataFrame.from_dict(data, orient=\"columns\")"
   ]
  },
  {
   "cell_type": "code",
   "execution_count": 11,
   "id": "exempt-winner",
   "metadata": {},
   "outputs": [
    {
     "name": "stdout",
     "output_type": "stream",
     "text": [
      "                                                    co2\n",
      "0     {'year': '2011', 'month': '1', 'day': '1', 'cy...\n",
      "1     {'year': '2011', 'month': '1', 'day': '2', 'cy...\n",
      "2     {'year': '2011', 'month': '1', 'day': '3', 'cy...\n",
      "3     {'year': '2011', 'month': '1', 'day': '4', 'cy...\n",
      "4     {'year': '2011', 'month': '1', 'day': '5', 'cy...\n",
      "...                                                 ...\n",
      "3743  {'year': '2021', 'month': '4', 'day': '1', 'cy...\n",
      "3744  {'year': '2021', 'month': '4', 'day': '2', 'cy...\n",
      "3745  {'year': '2021', 'month': '4', 'day': '3', 'cy...\n",
      "3746  {'year': '2021', 'month': '4', 'day': '4', 'cy...\n",
      "3747  {'year': '2021', 'month': '4', 'day': '5', 'cy...\n",
      "\n",
      "[3748 rows x 1 columns]\n"
     ]
    }
   ],
   "source": [
    "# verify the output\n",
    "print(df)"
   ]
  },
  {
   "cell_type": "code",
   "execution_count": 12,
   "id": "comprehensive-catalog",
   "metadata": {},
   "outputs": [
    {
     "data": {
      "text/plain": [
       "\"\\nCurrently the dataframe exists in the following format:\\n\\n                                                    co2\\n0     {'year': '2011', 'month': '1', 'day': '1', 'cy...\\n1     {'year': '2011', 'month': '1', 'day': '2', 'cy...\\n2     {'year': '2011', 'month': '1', 'day': '3', 'cy...\\n3     {'year': '2011', 'month': '1', 'day': '4', 'cy...\\n4     {'year': '2011', 'month': '1', 'day': '5', 'cy...\\n\\nThis is not optimal, I want to rearrange the data so that the keys of each dictionary/json\\nobject are dataframe columns corresponding to their associated values. \\n\""
      ]
     },
     "execution_count": 12,
     "metadata": {},
     "output_type": "execute_result"
    }
   ],
   "source": [
    "# Beging data cleaning\n",
    "\"\"\"\n",
    "Currently the dataframe exists in the following format:\n",
    "\n",
    "                                                    co2\n",
    "0     {'year': '2011', 'month': '1', 'day': '1', 'cy...\n",
    "1     {'year': '2011', 'month': '1', 'day': '2', 'cy...\n",
    "2     {'year': '2011', 'month': '1', 'day': '3', 'cy...\n",
    "3     {'year': '2011', 'month': '1', 'day': '4', 'cy...\n",
    "4     {'year': '2011', 'month': '1', 'day': '5', 'cy...\n",
    "\n",
    "This is not optimal, I want to rearrange the data so that the keys of each dictionary/json\n",
    "object are dataframe columns corresponding to their associated values. \n",
    "\"\"\""
   ]
  },
  {
   "cell_type": "code",
   "execution_count": 13,
   "id": "jewish-beads",
   "metadata": {},
   "outputs": [],
   "source": [
    "# rearrange the data\n",
    "new_df = pd.DataFrame(df['co2'].values.tolist())"
   ]
  },
  {
   "cell_type": "code",
   "execution_count": 14,
   "id": "aggregate-sherman",
   "metadata": {},
   "outputs": [
    {
     "name": "stdout",
     "output_type": "stream",
     "text": [
      "      year month day   cycle   trend\n",
      "0     2011     1   1  391.25  389.75\n",
      "1     2011     1   2  391.29  389.76\n",
      "2     2011     1   3  391.32  389.77\n",
      "3     2011     1   4  391.36  389.77\n",
      "4     2011     1   5  391.39  389.78\n",
      "...    ...   ...  ..     ...     ...\n",
      "3743  2021     4   1  416.28  414.44\n",
      "3744  2021     4   2  416.29  414.45\n",
      "3745  2021     4   3  416.30  414.46\n",
      "3746  2021     4   4  416.32  414.46\n",
      "3747  2021     4   5  416.33  414.47\n",
      "\n",
      "[3748 rows x 5 columns]\n"
     ]
    }
   ],
   "source": [
    "print(new_df)"
   ]
  },
  {
   "cell_type": "code",
   "execution_count": null,
   "id": "pretty-locking",
   "metadata": {},
   "outputs": [],
   "source": []
  }
 ],
 "metadata": {
  "kernelspec": {
   "display_name": "Python 3",
   "language": "python",
   "name": "python3"
  },
  "language_info": {
   "codemirror_mode": {
    "name": "ipython",
    "version": 3
   },
   "file_extension": ".py",
   "mimetype": "text/x-python",
   "name": "python",
   "nbconvert_exporter": "python",
   "pygments_lexer": "ipython3",
   "version": "3.6.12"
  }
 },
 "nbformat": 4,
 "nbformat_minor": 5
}
