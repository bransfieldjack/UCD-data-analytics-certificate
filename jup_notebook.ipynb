{
 "cells": [
  {
   "cell_type": "code",
   "execution_count": 51,
   "id": "f924ec50",
   "metadata": {},
   "outputs": [],
   "source": [
    "import pandas as pd\n",
    "import numpy as np\n",
    "import matplotlib.pyplot as plt\n",
    "from utilities import *"
   ]
  },
  {
   "cell_type": "code",
   "execution_count": 52,
   "id": "f9107d51",
   "metadata": {},
   "outputs": [
    {
     "data": {
      "text/plain": [
       "'\\n==================================================================================================================\\nImporting CO2 data from the https://global-warming.org/ API\\nUrl is: https://global-warming.org/api/co2-api\\n==================================================================================================================\\n'"
      ]
     },
     "execution_count": 52,
     "metadata": {},
     "output_type": "execute_result"
    }
   ],
   "source": [
    "\"\"\"\n",
    "==================================================================================================================\n",
    "Importing CO2 data from the https://global-warming.org/ API\n",
    "Url is: https://global-warming.org/api/co2-api\n",
    "==================================================================================================================\n",
    "\"\"\""
   ]
  },
  {
   "cell_type": "code",
   "execution_count": 53,
   "id": "64d9150c",
   "metadata": {},
   "outputs": [],
   "source": [
    "data = Utility().fetch_data_from_api(\"https://global-warming.org/api/co2-api\")\n",
    "unformatted_co2_df = pd.DataFrame.from_dict(data, orient=\"columns\")"
   ]
  },
  {
   "cell_type": "code",
   "execution_count": 54,
   "id": "d746e247",
   "metadata": {},
   "outputs": [
    {
     "data": {
      "text/plain": [
       "\"\\nCurrently the imported data exists in the dataframe in the following format:\\n\\n                                                    co2\\n0     {'year': '2011', 'month': '1', 'day': '1', 'cy...\\n1     {'year': '2011', 'month': '1', 'day': '2', 'cy...\\n2     {'year': '2011', 'month': '1', 'day': '3', 'cy...\\n3     {'year': '2011', 'month': '1', 'day': '4', 'cy...\\n4     {'year': '2011', 'month': '1', 'day': '5', 'cy...\\n\\nThis is not optimal, I want to reshape the data so that the keys of each dictionary/json\\nobject are dataframe columns corresponding to their associated values. \\n==================================================================================================================\\n\""
      ]
     },
     "execution_count": 54,
     "metadata": {},
     "output_type": "execute_result"
    }
   ],
   "source": [
    "\"\"\"\n",
    "Currently the imported data exists in the dataframe in the following format:\n",
    "\n",
    "                                                    co2\n",
    "0     {'year': '2011', 'month': '1', 'day': '1', 'cy...\n",
    "1     {'year': '2011', 'month': '1', 'day': '2', 'cy...\n",
    "2     {'year': '2011', 'month': '1', 'day': '3', 'cy...\n",
    "3     {'year': '2011', 'month': '1', 'day': '4', 'cy...\n",
    "4     {'year': '2011', 'month': '1', 'day': '5', 'cy...\n",
    "\n",
    "This is not optimal, I want to reshape the data so that the keys of each dictionary/json\n",
    "object are dataframe columns corresponding to their associated values. \n",
    "==================================================================================================================\n",
    "\"\"\""
   ]
  },
  {
   "cell_type": "code",
   "execution_count": 55,
   "id": "a09c02a7",
   "metadata": {},
   "outputs": [],
   "source": [
    "# reshape the data\n",
    "co2_df = pd.DataFrame(unformatted_co2_df[\"co2\"].values.tolist())\n",
    "co2_df[\"year\"] = co2_df[\"year\"].astype(float).astype(int)"
   ]
  },
  {
   "cell_type": "code",
   "execution_count": 56,
   "id": "593335db",
   "metadata": {},
   "outputs": [
    {
     "data": {
      "text/plain": [
       "'\\n      year month day   cycle   trend\\n0     2011     1   1  391.25  389.75\\n1     2011     1   2  391.29  389.76\\n2     2011     1   3  391.32  389.77\\n3     2011     1   4  391.36  389.77\\n4     2011     1   5  391.39  389.78\\n...    ...   ...  ..     ...     ...\\n3743  2021     4   1  416.28  414.44\\n3744  2021     4   2  416.29  414.45\\n3745  2021     4   3  416.30  414.46\\n3746  2021     4   4  416.32  414.46\\n3747  2021     4   5  416.33  414.47\\n'"
      ]
     },
     "execution_count": 56,
     "metadata": {},
     "output_type": "execute_result"
    }
   ],
   "source": [
    "# Now you can see the dataframe is more suited for manipulation\n",
    "\"\"\"\n",
    "      year month day   cycle   trend\n",
    "0     2011     1   1  391.25  389.75\n",
    "1     2011     1   2  391.29  389.76\n",
    "2     2011     1   3  391.32  389.77\n",
    "3     2011     1   4  391.36  389.77\n",
    "4     2011     1   5  391.39  389.78\n",
    "...    ...   ...  ..     ...     ...\n",
    "3743  2021     4   1  416.28  414.44\n",
    "3744  2021     4   2  416.29  414.45\n",
    "3745  2021     4   3  416.30  414.46\n",
    "3746  2021     4   4  416.32  414.46\n",
    "3747  2021     4   5  416.33  414.47\n",
    "\"\"\""
   ]
  },
  {
   "cell_type": "code",
   "execution_count": 57,
   "id": "b9d96835",
   "metadata": {},
   "outputs": [],
   "source": [
    "# get the shape of the dataframe:\n",
    "# print(df.shape)\n",
    "\"\"\"\n",
    "Output: \n",
    "(3752, 5)\n",
    "3752 rows and 5 columns\n",
    "\"\"\"\n",
    "\n",
    "# Check the dataframe for any null or duplicate values:\n",
    "\n",
    "# rows with missing data\n",
    "rows_null_data = co2_df[co2_df.isnull()]\n",
    "# print(rows_null_data)"
   ]
  },
  {
   "cell_type": "code",
   "execution_count": 58,
   "id": "2a0570ff",
   "metadata": {},
   "outputs": [
    {
     "data": {
      "text/plain": [
       "\"\\nGet the sum of all null values in a specific row (replace with any column from dataframe).\\nInstead of manually assigning each column name and checking individually, I created a reuseable utility function 'check_rows_null_values()'.\\nThe function will use a for loop to iterate over a list of column names contained in the dataframe, \\nand return a count for the number of null values in each columns corresponding rows. \\n\""
      ]
     },
     "execution_count": 58,
     "metadata": {},
     "output_type": "execute_result"
    }
   ],
   "source": [
    "\"\"\"\n",
    "Get the sum of all null values in a specific row (replace with any column from dataframe).\n",
    "Instead of manually assigning each column name and checking individually, I created a reuseable utility function 'check_rows_null_values()'.\n",
    "The function will use a for loop to iterate over a list of column names contained in the dataframe, \n",
    "and return a count for the number of null values in each columns corresponding rows. \n",
    "\"\"\""
   ]
  },
  {
   "cell_type": "code",
   "execution_count": 59,
   "id": "fe1733d7",
   "metadata": {},
   "outputs": [],
   "source": [
    "util = Utility(co2_df)  # init utility class with dataframe\n",
    "columns_list = util.check_rows_null_values(  # call check_rows_null_values()\n",
    "    co2_df.columns\n",
    ")"
   ]
  },
  {
   "cell_type": "code",
   "execution_count": 60,
   "id": "c4c800dc",
   "metadata": {},
   "outputs": [],
   "source": [
    "# (optional) for ease of use, convert the list of dict again to a dataframe to get a report of the findings:\n",
    "null_row_value_report = pd.DataFrame(columns_list)\n",
    "# print(null_row_value_report.to_string(index=False))"
   ]
  },
  {
   "cell_type": "code",
   "execution_count": 61,
   "id": "dfa36404",
   "metadata": {},
   "outputs": [
    {
     "data": {
      "text/plain": [
       "'\\n==================================================================================================================\\nImporting Temperature data from the https://global-warming.org/ API\\nUrl is: https://global-warming.org/api/temperature-api\\n==================================================================================================================\\n'"
      ]
     },
     "execution_count": 61,
     "metadata": {},
     "output_type": "execute_result"
    }
   ],
   "source": [
    "\"\"\"\n",
    "==================================================================================================================\n",
    "Importing Temperature data from the https://global-warming.org/ API\n",
    "Url is: https://global-warming.org/api/temperature-api\n",
    "==================================================================================================================\n",
    "\"\"\""
   ]
  },
  {
   "cell_type": "code",
   "execution_count": 62,
   "id": "6f09172a",
   "metadata": {},
   "outputs": [],
   "source": [
    "data = Utility().fetch_data_from_api(\n",
    "    \"https://global-warming.org/api/temperature-api\"\n",
    ")\n",
    "unformatted_temp_df = pd.DataFrame.from_dict(data, orient=\"columns\")"
   ]
  },
  {
   "cell_type": "code",
   "execution_count": 63,
   "id": "2815926d",
   "metadata": {},
   "outputs": [],
   "source": [
    "# reshape the data\n",
    "temp_df = pd.DataFrame(unformatted_temp_df[\"result\"].values.tolist())"
   ]
  },
  {
   "cell_type": "code",
   "execution_count": 64,
   "id": "ec958525",
   "metadata": {},
   "outputs": [],
   "source": [
    "# the temperature data has a data range from years 1880 - 2021, but I am only interested in from 2011 onwards, similar to the co2 data.\n",
    "# convert all values in the time column to type int.\n",
    "temp_df[\"time\"] = temp_df[\"time\"].astype(float).astype(int)"
   ]
  },
  {
   "cell_type": "code",
   "execution_count": 65,
   "id": "bbfc5ce0",
   "metadata": {},
   "outputs": [],
   "source": [
    "# to see how many values exist for each year in the dataframe:\n",
    "months_per_year = Utility(temp_df).get_row_value_counts(\"time\")"
   ]
  },
  {
   "cell_type": "code",
   "execution_count": 66,
   "id": "600fc065",
   "metadata": {},
   "outputs": [],
   "source": [
    "# greater than the start date and smaller than the end date\n",
    "time_filter = (temp_df[\"time\"] >= 2011) & (temp_df[\"time\"] <= 2021)"
   ]
  },
  {
   "cell_type": "code",
   "execution_count": 67,
   "id": "786204c1",
   "metadata": {},
   "outputs": [],
   "source": [
    "# the final (usable) temperature dataframe after formatting:\n",
    "temp_df = temp_df.loc[time_filter]\n",
    "temp_df.rename(columns={\"time\": \"year\"}, inplace=True)"
   ]
  },
  {
   "cell_type": "code",
   "execution_count": 68,
   "id": "bd58e870",
   "metadata": {},
   "outputs": [
    {
     "data": {
      "text/plain": [
       "'\\nMerge both the co2 dataframe and the temperature dataframes:\\n'"
      ]
     },
     "execution_count": 68,
     "metadata": {},
     "output_type": "execute_result"
    }
   ],
   "source": [
    "\"\"\"\n",
    "Merge both the co2 dataframe and the temperature dataframes:\n",
    "\"\"\""
   ]
  },
  {
   "cell_type": "code",
   "execution_count": 69,
   "id": "0743abfd",
   "metadata": {},
   "outputs": [],
   "source": [
    "dataframes_merged = pd.merge(co2_df, temp_df)"
   ]
  },
  {
   "cell_type": "code",
   "execution_count": 70,
   "id": "59699367",
   "metadata": {},
   "outputs": [],
   "source": [
    "# remove unsued columns (month & day)\n",
    "del dataframes_merged[\"month\"]\n",
    "del dataframes_merged[\"day\"]"
   ]
  },
  {
   "cell_type": "code",
   "execution_count": 71,
   "id": "f8c41273",
   "metadata": {},
   "outputs": [],
   "source": [
    "# reset the dataframe index\n",
    "reindexed_final_df = dataframes_merged"
   ]
  },
  {
   "cell_type": "code",
   "execution_count": 72,
   "id": "047ff0df",
   "metadata": {},
   "outputs": [],
   "source": [
    "# reuse of utility function to see how many unique values exist for each year in the dataframe:\n",
    "uniq_values_per_year = Utility(reindexed_final_df).get_row_value_counts(\"year\")"
   ]
  },
  {
   "cell_type": "code",
   "execution_count": 73,
   "id": "69136ec0",
   "metadata": {},
   "outputs": [
    {
     "data": {
      "text/plain": [
       "'\\nOutput: \\n\\n      cycle  trend  station  land\\nyear                             \\n2011   4380   4380     4380  4380\\n2012   4392   4392     4392  4392\\n2013   4380   4380     4380  4380\\n2014   4380   4380     4380  4380\\n2015   4380   4380     4380  4380\\n2016   4392   4392     4392  4392\\n2017   4380   4380     4380  4308\\n2018   4380   4380     4380  4380\\n2019   4380   4380     4380  4380\\n2020   4392   4392     4392  4392\\n2021    200    200      200   200\\n'"
      ]
     },
     "execution_count": 73,
     "metadata": {},
     "output_type": "execute_result"
    }
   ],
   "source": [
    "\"\"\"\n",
    "Output: \n",
    "\n",
    "      cycle  trend  station  land\n",
    "year                             \n",
    "2011   4380   4380     4380  4380\n",
    "2012   4392   4392     4392  4392\n",
    "2013   4380   4380     4380  4380\n",
    "2014   4380   4380     4380  4380\n",
    "2015   4380   4380     4380  4380\n",
    "2016   4392   4392     4392  4392\n",
    "2017   4380   4380     4380  4308\n",
    "2018   4380   4380     4380  4380\n",
    "2019   4380   4380     4380  4380\n",
    "2020   4392   4392     4392  4392\n",
    "2021    200    200      200   200\n",
    "\"\"\""
   ]
  },
  {
   "cell_type": "code",
   "execution_count": 74,
   "id": "6199f76c",
   "metadata": {},
   "outputs": [],
   "source": [
    "# get the average C02 trend level for each year.\n",
    "unique_years = reindexed_final_df[\"year\"].unique()\n",
    "years_averages_co2 = []"
   ]
  },
  {
   "cell_type": "code",
   "execution_count": 75,
   "id": "2f78bd92",
   "metadata": {},
   "outputs": [],
   "source": [
    "# for every year, get the average values\n",
    "for year in unique_years:\n",
    "    averages = reindexed_final_df.loc[reindexed_final_df[\"year\"] == year, \"trend\"]\n",
    "    float_list = [float(i) for i in averages.to_list()]\n",
    "    int_list = [int(i) for i in float_list]\n",
    "    years_averages_co2.append(list(set(int_list)))"
   ]
  },
  {
   "cell_type": "code",
   "execution_count": 76,
   "id": "ec35368a",
   "metadata": {},
   "outputs": [],
   "source": [
    "# get the mean c02 values per year\n",
    "mean_per_year = []\n",
    "for i in years_averages_co2:\n",
    "    mean = Utility.Average(i)\n",
    "    mean_per_year.append(mean)"
   ]
  },
  {
   "cell_type": "code",
   "execution_count": 77,
   "id": "4d4ef24f",
   "metadata": {},
   "outputs": [],
   "source": [
    "# perform the same task for the temperature increase\n",
    "mean_station_averages = []\n",
    "for year in unique_years:\n",
    "    station_averages = reindexed_final_df.loc[\n",
    "        reindexed_final_df[\"year\"] == year, \"station\"\n",
    "    ]\n",
    "    float_list = [float(i) for i in station_averages.to_list()]\n",
    "    unique_values = list(set(float_list))\n",
    "\n",
    "    mean = Utility.Average(unique_values)\n",
    "    mean_temperateure_rounded = round(mean, 2)\n",
    "    mean_station_averages.append(mean_temperateure_rounded)"
   ]
  },
  {
   "cell_type": "code",
   "execution_count": 78,
   "id": "09547460",
   "metadata": {},
   "outputs": [
    {
     "data": {
      "text/plain": [
       "'\\n==================================================================================================================\\nBegin correlation between temperature C02 rise and growth in global energy demand\\nCSV obtained from data.worldbank.org\\nhttps://data.worldbank.org/indicator/EG.USE.PCAP.KG.OE?end=2015&start=2015&view=bar\\n==================================================================================================================\\n'"
      ]
     },
     "execution_count": 78,
     "metadata": {},
     "output_type": "execute_result"
    }
   ],
   "source": [
    "\"\"\"\n",
    "==================================================================================================================\n",
    "Begin correlation between temperature C02 rise and growth in global energy demand\n",
    "CSV obtained from data.worldbank.org\n",
    "https://data.worldbank.org/indicator/EG.USE.PCAP.KG.OE?end=2015&start=2015&view=bar\n",
    "==================================================================================================================\n",
    "\"\"\""
   ]
  },
  {
   "cell_type": "code",
   "execution_count": 79,
   "id": "9fcf0520",
   "metadata": {},
   "outputs": [],
   "source": [
    "energy_data = pd.read_csv(\"data/energy.csv\")\n",
    "energy_dataframe = pd.DataFrame(energy_data)"
   ]
  },
  {
   "cell_type": "code",
   "execution_count": 80,
   "id": "b8b09378",
   "metadata": {},
   "outputs": [],
   "source": [
    "# rename 'entity' column to country\n",
    "energy_dataframe.rename(columns={\"Entity\": \"Country\"}, inplace=True)"
   ]
  },
  {
   "cell_type": "code",
   "execution_count": 81,
   "id": "8fe6ce0f",
   "metadata": {},
   "outputs": [],
   "source": [
    "# distinct country names:\n",
    "world_dataframe = energy_dataframe[energy_dataframe[\"Country\"] == \"World\"]"
   ]
  },
  {
   "cell_type": "code",
   "execution_count": 82,
   "id": "60909c73",
   "metadata": {},
   "outputs": [],
   "source": [
    "# filter to only return rows beginning from 2011\n",
    "energy_filtered_for_time = world_dataframe[world_dataframe[\"Year\"] >= 2011]"
   ]
  },
  {
   "cell_type": "code",
   "execution_count": 83,
   "id": "4aa4a148",
   "metadata": {},
   "outputs": [],
   "source": [
    "# utility checks:\n",
    "util = Utility(energy_filtered_for_time)  # init utility class with dataframe\n",
    "columns_list = util.check_rows_null_values(\n",
    "    energy_filtered_for_time.columns\n",
    ")  # call check_rows_null_values()"
   ]
  },
  {
   "cell_type": "code",
   "execution_count": 84,
   "id": "3e5fbe6a",
   "metadata": {},
   "outputs": [
    {
     "data": {
      "text/plain": [
       "\"\\n[{'Name': 'Country', 'Null counts': 0}, \\n{'Name': 'Code', 'Null counts': 201}, \\n{'Name': 'Year', 'Null counts': 0}, \\n{'Name': 'Primary energy consumption (TWh)', 'Null counts': 0}]\\n\""
      ]
     },
     "execution_count": 84,
     "metadata": {},
     "output_type": "execute_result"
    }
   ],
   "source": [
    "# output:\n",
    "\"\"\"\n",
    "[{'Name': 'Country', 'Null counts': 0}, \n",
    "{'Name': 'Code', 'Null counts': 201}, \n",
    "{'Name': 'Year', 'Null counts': 0}, \n",
    "{'Name': 'Primary energy consumption (TWh)', 'Null counts': 0}]\n",
    "\"\"\""
   ]
  },
  {
   "cell_type": "code",
   "execution_count": 85,
   "id": "2a8d2533",
   "metadata": {},
   "outputs": [],
   "source": [
    "# dropping 'Code' & 'Country' - column, not required\n",
    "del energy_filtered_for_time[\"Code\"]\n",
    "del energy_filtered_for_time[\"Country\"]"
   ]
  },
  {
   "cell_type": "code",
   "execution_count": 86,
   "id": "7054092d",
   "metadata": {},
   "outputs": [],
   "source": [
    "year = energy_filtered_for_time[\"Year\"]\n",
    "energy = energy_filtered_for_time[\"Primary energy consumption (TWh)\"]"
   ]
  },
  {
   "cell_type": "code",
   "execution_count": 87,
   "id": "a2446d1d",
   "metadata": {},
   "outputs": [
    {
     "data": {
      "image/png": "[encoded data removed]",
      "text/plain": [
       "<Figure size 432x288 with 3 Axes>"
      ]
     },
     "metadata": {
      "needs_background": "light"
     },
     "output_type": "display_data"
    }
   ],
   "source": [
    "\"\"\"\n",
    "Plot all data here:\n",
    "\"\"\"\n",
    "fig, axs = plt.subplots(3)\n",
    "fig.tight_layout(pad=3.0)"
   ]
  },
  {
   "cell_type": "code",
   "execution_count": 88,
   "id": "f990e42f",
   "metadata": {},
   "outputs": [
    {
     "data": {
      "text/plain": [
       "Text(0.5, 175.20000000000005, 'Years')"
      ]
     },
     "execution_count": 88,
     "metadata": {},
     "output_type": "execute_result"
    }
   ],
   "source": [
    "# Co2 plot\n",
    "axs[0].scatter(unique_years, mean_per_year, color=\"red\")\n",
    "m, b = np.polyfit(unique_years, mean_per_year, 1)  # linear regression line\n",
    "axs[0].plot(unique_years, m * unique_years + b)\n",
    "axs[0].set_title(\"C02 ppm (parts per million) 2011 - 2020\")\n",
    "axs[0].set_ylabel(\"PPM\")\n",
    "axs[0].set_xlabel(\"Years\")"
   ]
  },
  {
   "cell_type": "code",
   "execution_count": 89,
   "id": "7cd129ac",
   "metadata": {},
   "outputs": [
    {
     "data": {
      "text/plain": [
       "Text(0.5, 89.20000000000002, 'Years')"
      ]
     },
     "execution_count": 89,
     "metadata": {},
     "output_type": "execute_result"
    }
   ],
   "source": [
    "# Temperature plot\n",
    "axs[1].scatter(unique_years, mean_station_averages, color=\"orange\")\n",
    "m, b = np.polyfit(unique_years, mean_station_averages, 1)  # linear regression line\n",
    "axs[1].plot(unique_years, m * unique_years + b)\n",
    "axs[1].set_title(\"Temperature increase (Celcius) 2011 - 2020\")\n",
    "axs[1].set_ylabel(\"Degrees Celsius\")\n",
    "axs[1].set_xlabel(\"Years\")"
   ]
  },
  {
   "cell_type": "code",
   "execution_count": 90,
   "id": "a73799fc",
   "metadata": {},
   "outputs": [],
   "source": [
    "# Energy plot\n",
    "axs[2].scatter(year, energy, color=\"purple\")\n",
    "m, b = np.polyfit(year, energy, 1)  # linear regression line\n",
    "axs[2].plot(year, m * year + b)\n",
    "axs[2].set_title(\"Global Energy demand 2011 - 2019\")\n",
    "axs[2].set_ylabel(\"Primary energy consumption (TWh)\")\n",
    "axs[2].set_xlabel(\"Years\")\n",
    "plt.show()"
   ]
  },
  {
   "cell_type": "code",
   "execution_count": 91,
   "id": "e40d757a",
   "metadata": {},
   "outputs": [],
   "source": [
    "\"\"\"\n",
    "* (Optional) Extra but not part of this course *\n",
    "\"\"\"\n",
    "# linear regression plot:\n",
    "# merge all dataframes and export to csv:\n",
    "\n",
    "# rename 'Year' column to 'year'\n",
    "energy_filtered_for_time = energy_filtered_for_time.rename(columns={\"Year\": \"year\"})"
   ]
  },
  {
   "cell_type": "code",
   "execution_count": 92,
   "id": "85d181d3",
   "metadata": {},
   "outputs": [],
   "source": [
    "\"\"\"\n",
    "Merge both datasets into one dataframe for use with Tensorflow:\n",
    "\"\"\"\n",
    "\n",
    "merged = pd.merge(\n",
    "    reindexed_final_df,\n",
    "    energy_filtered_for_time,\n",
    "    left_on=\"year\",\n",
    "    right_on=\"year\",\n",
    "    how=\"left\",\n",
    ")\n",
    "\n",
    "# uncomment this line for result\n",
    "# tf = TensorFlowProcessing(merged)"
   ]
  },
  {
   "cell_type": "code",
   "execution_count": null,
   "id": "376f0d93",
   "metadata": {},
   "outputs": [],
   "source": []
  }
 ],
 "metadata": {
  "kernelspec": {
   "display_name": "Python 3",
   "language": "python",
   "name": "python3"
  },
  "language_info": {
   "codemirror_mode": {
    "name": "ipython",
    "version": 3
   },
   "file_extension": ".py",
   "mimetype": "text/x-python",
   "name": "python",
   "nbconvert_exporter": "python",
   "pygments_lexer": "ipython3",
   "version": "3.6.13"
  }
 },
 "nbformat": 4,
 "nbformat_minor": 5
}
