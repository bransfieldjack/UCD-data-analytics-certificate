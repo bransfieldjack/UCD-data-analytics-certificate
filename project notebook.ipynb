{
 "cells": [
  {
   "cell_type": "code",
   "execution_count": null,
   "id": "painted-explosion",
   "metadata": {},
   "outputs": [],
   "source": [
    "!pip install pandas, requests, json, matplotlib"
   ]
  },
  {
   "cell_type": "code",
   "execution_count": null,
   "id": "received-gazette",
   "metadata": {
    "scrolled": true
   },
   "outputs": [],
   "source": [
    "import requests, json\n",
    "import pandas as pd\n",
    "import matplotlib.pyplot as plt"
   ]
  },
  {
   "cell_type": "code",
   "execution_count": 6,
   "id": "variable-aluminum",
   "metadata": {},
   "outputs": [],
   "source": [
    "# specify the required format of the data requested from the api\n",
    "headers = {\n",
    "    \"Content-type\": \"application/json\",\n",
    "    \"Content-Type\": \"application/json;charset=UTF-8\",\n",
    "}"
   ]
  },
  {
   "cell_type": "code",
   "execution_count": 7,
   "id": "european-tiffany",
   "metadata": {},
   "outputs": [],
   "source": [
    "# make the request\n",
    "request = requests.get(\"https://global-warming.org/api/co2-api\", headers=headers)"
   ]
  },
  {
   "cell_type": "code",
   "execution_count": 8,
   "id": "bibliographic-credits",
   "metadata": {},
   "outputs": [],
   "source": [
    "# assign the json result to a variable called 'data'\n",
    "data = request.json()"
   ]
  },
  {
   "cell_type": "code",
   "execution_count": 9,
   "id": "primary-forty",
   "metadata": {},
   "outputs": [
    {
     "name": "stdout",
     "output_type": "stream",
     "text": [
      "<class 'dict'>\n"
     ]
    }
   ],
   "source": [
    "# confirm the data has the expected type\n",
    "print(type(data))"
   ]
  },
  {
   "cell_type": "code",
   "execution_count": 16,
   "id": "lesbian-catalog",
   "metadata": {},
   "outputs": [],
   "source": [
    "# coerce the data into a dataframe\n",
    "unformatted_df = pd.DataFrame.from_dict(data, orient=\"columns\")"
   ]
  },
  {
   "cell_type": "code",
   "execution_count": 17,
   "id": "addressed-toronto",
   "metadata": {},
   "outputs": [
    {
     "name": "stdout",
     "output_type": "stream",
     "text": [
      "                                                    co2\n",
      "0     {'year': '2011', 'month': '1', 'day': '1', 'cy...\n",
      "1     {'year': '2011', 'month': '1', 'day': '2', 'cy...\n",
      "2     {'year': '2011', 'month': '1', 'day': '3', 'cy...\n",
      "3     {'year': '2011', 'month': '1', 'day': '4', 'cy...\n",
      "4     {'year': '2011', 'month': '1', 'day': '5', 'cy...\n",
      "...                                                 ...\n",
      "3743  {'year': '2021', 'month': '4', 'day': '1', 'cy...\n",
      "3744  {'year': '2021', 'month': '4', 'day': '2', 'cy...\n",
      "3745  {'year': '2021', 'month': '4', 'day': '3', 'cy...\n",
      "3746  {'year': '2021', 'month': '4', 'day': '4', 'cy...\n",
      "3747  {'year': '2021', 'month': '4', 'day': '5', 'cy...\n",
      "\n",
      "[3748 rows x 1 columns]\n"
     ]
    }
   ],
   "source": [
    "# verify the output\n",
    "print(unformatted_df)"
   ]
  },
  {
   "cell_type": "markdown",
   "id": "administrative-league",
   "metadata": {},
   "source": [
    "# Beging data cleaning\n",
    "\"\"\"\n",
    "Currently the dataframe exists in the following format:\n",
    "\n",
    "                                                    co2\n",
    "0     {'year': '2011', 'month': '1', 'day': '1', 'cy...\n",
    "1     {'year': '2011', 'month': '1', 'day': '2', 'cy...\n",
    "2     {'year': '2011', 'month': '1', 'day': '3', 'cy...\n",
    "3     {'year': '2011', 'month': '1', 'day': '4', 'cy...\n",
    "4     {'year': '2011', 'month': '1', 'day': '5', 'cy...\n",
    "\n",
    "This is not optimal, I want to rearrange the data so that the keys of each dictionary/json\n",
    "object are dataframe columns corresponding to their associated values. \n",
    "\"\"\""
   ]
  },
  {
   "cell_type": "code",
   "execution_count": 18,
   "id": "critical-grenada",
   "metadata": {},
   "outputs": [],
   "source": [
    "# rearrange the data\n",
    "df = pd.DataFrame(df['co2'].values.tolist())"
   ]
  },
  {
   "cell_type": "code",
   "execution_count": 19,
   "id": "duplicate-pierce",
   "metadata": {},
   "outputs": [
    {
     "name": "stdout",
     "output_type": "stream",
     "text": [
      "      year month day   cycle   trend\n",
      "0     2011     1   1  391.25  389.75\n",
      "1     2011     1   2  391.29  389.76\n",
      "2     2011     1   3  391.32  389.77\n",
      "3     2011     1   4  391.36  389.77\n",
      "4     2011     1   5  391.39  389.78\n",
      "...    ...   ...  ..     ...     ...\n",
      "3743  2021     4   1  416.28  414.44\n",
      "3744  2021     4   2  416.29  414.45\n",
      "3745  2021     4   3  416.30  414.46\n",
      "3746  2021     4   4  416.32  414.46\n",
      "3747  2021     4   5  416.33  414.47\n",
      "\n",
      "[3748 rows x 5 columns]\n"
     ]
    }
   ],
   "source": [
    "print(df)"
   ]
  },
  {
   "cell_type": "code",
   "execution_count": 37,
   "id": "contained-schedule",
   "metadata": {},
   "outputs": [
    {
     "name": "stdout",
     "output_type": "stream",
     "text": [
      "False\n"
     ]
    }
   ],
   "source": [
    "# Check the dataframe for any null or duplicate values\n",
    "\n",
    "# rows with missing data\n",
    "rows_null_data = df[df.isnull()]\n",
    "\n",
    "# the sum null values in a specific row\n",
    "sum_rows_null_data = df['trend'].isnull().sum()\n",
    "\n",
    "# check for NaN under single column\n",
    "nan_column = df['trend'].isnull().values.any()\n",
    "print(nan_column)"
   ]
  },
  {
   "cell_type": "markdown",
   "id": "cathedral-recipe",
   "metadata": {},
   "source": [
    "# Data cleaning example\n",
    "\"\"\"\n",
    "The global warming dataset I have chosen has already been cleaned, and appears to be in good condition. \n",
    "For the sake of fulfilling the milestone requirements of the project, I will demonstrate some data cleansing\n",
    "best practices with a dataset that is better suited for the same:\n",
    "\n",
    "Dataset: Iris Species\n",
    "\n",
    "Classify iris plants into three species in this classic dataset\n",
    "\n",
    "https://www.kaggle.com/uciml/iris\n",
    "\"\"\""
   ]
  },
  {
   "cell_type": "code",
   "execution_count": 39,
   "id": "royal-rating",
   "metadata": {},
   "outputs": [],
   "source": [
    "# This data is from a CSV import, the file can be found in the data folder of the project repo.\n",
    "# import the csv file:\n",
    "iris_species = pd.read_csv(\"data/iris.csv\")\n",
    "iris_species_dataframe = pd.DataFrame(iris_species)"
   ]
  },
  {
   "cell_type": "code",
   "execution_count": 40,
   "id": "configured-respondent",
   "metadata": {},
   "outputs": [
    {
     "name": "stdout",
     "output_type": "stream",
     "text": [
      "      Id  SepalLengthCm  SepalWidthCm  PetalLengthCm  PetalWidthCm  \\\n",
      "0      1            5.1           3.5            1.4           0.2   \n",
      "1      2            4.9           3.0            1.4           0.2   \n",
      "2      3            4.7           3.2            1.3           0.2   \n",
      "3      4            4.6           3.1            1.5           0.2   \n",
      "4      5            5.0           3.6            1.4           0.2   \n",
      "..   ...            ...           ...            ...           ...   \n",
      "145  146            6.7           3.0            5.2           2.3   \n",
      "146  147            6.3           2.5            5.0           1.9   \n",
      "147  148            6.5           3.0            5.2           2.0   \n",
      "148  149            6.2           3.4            5.4           2.3   \n",
      "149  150            5.9           3.0            5.1           1.8   \n",
      "\n",
      "            Species  \n",
      "0       Iris-setosa  \n",
      "1       Iris-setosa  \n",
      "2       Iris-setosa  \n",
      "3       Iris-setosa  \n",
      "4       Iris-setosa  \n",
      "..              ...  \n",
      "145  Iris-virginica  \n",
      "146  Iris-virginica  \n",
      "147  Iris-virginica  \n",
      "148  Iris-virginica  \n",
      "149  Iris-virginica  \n",
      "\n",
      "[150 rows x 6 columns]\n"
     ]
    }
   ],
   "source": [
    "print(iris_species_dataframe)"
   ]
  },
  {
   "cell_type": "code",
   "execution_count": null,
   "id": "necessary-context",
   "metadata": {},
   "outputs": [],
   "source": []
  }
 ],
 "metadata": {
  "kernelspec": {
   "display_name": "Python 3",
   "language": "python",
   "name": "python3"
  },
  "language_info": {
   "codemirror_mode": {
    "name": "ipython",
    "version": 3
   },
   "file_extension": ".py",
   "mimetype": "text/x-python",
   "name": "python",
   "nbconvert_exporter": "python",
   "pygments_lexer": "ipython3",
   "version": "3.6.12"
  }
 },
 "nbformat": 4,
 "nbformat_minor": 5
}
