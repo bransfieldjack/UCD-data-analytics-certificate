{
 "cells": [
  {
   "cell_type": "code",
   "execution_count": null,
   "id": "a275945e",
   "metadata": {},
   "outputs": [],
   "source": [
    "!pip install pandas"
   ]
  },
  {
   "cell_type": "code",
   "execution_count": null,
   "id": "major-nigeria",
   "metadata": {
    "scrolled": true
   },
   "outputs": [],
   "source": [
    "import requests, json\n",
    "import pandas as pd\n",
    "import matplotlib.pyplot as plt"
   ]
  },
  {
   "cell_type": "code",
   "execution_count": null,
   "id": "changed-butler",
   "metadata": {},
   "outputs": [],
   "source": [
    "# specify the required format of the data requested from the api\n",
    "headers = {\n",
    "    \"Content-type\": \"application/json\",\n",
    "    \"Content-Type\": \"application/json;charset=UTF-8\",\n",
    "}"
   ]
  },
  {
   "cell_type": "code",
   "execution_count": null,
   "id": "greek-apartment",
   "metadata": {},
   "outputs": [],
   "source": [
    "# make the request\n",
    "request = requests.get(\"https://global-warming.org/api/co2-api\", headers=headers)"
   ]
  },
  {
   "cell_type": "code",
   "execution_count": null,
   "id": "scenic-potential",
   "metadata": {},
   "outputs": [],
   "source": [
    "# assign the json result to a variable called 'data'\n",
    "data = request.json()"
   ]
  },
  {
   "cell_type": "code",
   "execution_count": null,
   "id": "chicken-answer",
   "metadata": {},
   "outputs": [],
   "source": [
    "# confirm the data has the expected type\n",
    "print(type(data))"
   ]
  },
  {
   "cell_type": "code",
   "execution_count": null,
   "id": "annual-accuracy",
   "metadata": {},
   "outputs": [],
   "source": [
    "# coerce the data into a dataframe\n",
    "unformatted_df = pd.DataFrame.from_dict(data, orient=\"columns\")"
   ]
  },
  {
   "cell_type": "code",
   "execution_count": null,
   "id": "alert-cleaning",
   "metadata": {},
   "outputs": [],
   "source": [
    "# verify the output\n",
    "print(unformatted_df)"
   ]
  },
  {
   "cell_type": "markdown",
   "id": "ultimate-thanksgiving",
   "metadata": {},
   "source": [
    "# Beging data cleaning\n",
    "\"\"\"\n",
    "Currently the dataframe exists in the following format:\n",
    "\n",
    "                                                    co2\n",
    "0     {'year': '2011', 'month': '1', 'day': '1', 'cy...\n",
    "1     {'year': '2011', 'month': '1', 'day': '2', 'cy...\n",
    "2     {'year': '2011', 'month': '1', 'day': '3', 'cy...\n",
    "3     {'year': '2011', 'month': '1', 'day': '4', 'cy...\n",
    "4     {'year': '2011', 'month': '1', 'day': '5', 'cy...\n",
    "\n",
    "This is not optimal, I want to rearrange the data so that the keys of each dictionary/json\n",
    "object are dataframe columns corresponding to their associated values. \n",
    "\"\"\""
   ]
  },
  {
   "cell_type": "code",
   "execution_count": null,
   "id": "rural-techno",
   "metadata": {},
   "outputs": [],
   "source": [
    "# rearrange the data\n",
    "df = pd.DataFrame(df['co2'].values.tolist())"
   ]
  },
  {
   "cell_type": "code",
   "execution_count": null,
   "id": "novel-saturday",
   "metadata": {},
   "outputs": [],
   "source": [
    "print(df)"
   ]
  },
  {
   "cell_type": "code",
   "execution_count": null,
   "id": "responsible-sharp",
   "metadata": {},
   "outputs": [],
   "source": [
    "# Check the dataframe for any null or duplicate values\n",
    "\n",
    "# rows with missing data\n",
    "rows_null_data = df[df.isnull()]\n",
    "\n",
    "# the sum null values in a specific row\n",
    "sum_rows_null_data = df['trend'].isnull().sum()\n",
    "\n",
    "# check for NaN under single column\n",
    "nan_column = df['trend'].isnull().values.any()\n",
    "print(nan_column)"
   ]
  },
  {
   "cell_type": "markdown",
   "id": "unlike-receipt",
   "metadata": {},
   "source": [
    "# Data cleaning example\n",
    "\"\"\"\n",
    "The global warming dataset I have chosen has already been cleaned, and appears to be in good condition. \n",
    "For the sake of fulfilling the milestone requirements of the project, I will demonstrate some data cleansing\n",
    "best practices with a dataset that is better suited for the same:\n",
    "\n",
    "Dataset: Iris Species\n",
    "\n",
    "Classify iris plants into three species in this classic dataset\n",
    "\n",
    "https://www.kaggle.com/uciml/iris\n",
    "\"\"\""
   ]
  },
  {
   "cell_type": "code",
   "execution_count": null,
   "id": "sublime-ivory",
   "metadata": {},
   "outputs": [],
   "source": [
    "# This data is from a CSV import, the file can be found in the data folder of the project repo.\n",
    "# import the csv file:\n",
    "iris_species = pd.read_csv(\"data/iris.csv\")\n",
    "iris_species_dataframe = pd.DataFrame(iris_species)"
   ]
  },
  {
   "cell_type": "code",
   "execution_count": null,
   "id": "tender-caribbean",
   "metadata": {},
   "outputs": [],
   "source": [
    "print(iris_species_dataframe)"
   ]
  },
  {
   "cell_type": "code",
   "execution_count": null,
   "id": "durable-genius",
   "metadata": {},
   "outputs": [],
   "source": [
    "# get the number of distinct values in a column, in this case the number of different species in the species column\n",
    "distinct_species = iris_species_dataframe[\"Species\"].value_counts()\n",
    "print(distinct_species)"
   ]
  },
  {
   "cell_type": "code",
   "execution_count": null,
   "id": "continuing-clone",
   "metadata": {},
   "outputs": [],
   "source": [
    "# visually represent this breakdown on a bar-chart:\n",
    "bar_chart = plt.bar([setosa, versicolor, virginica], [1, 2, 3])\n",
    "plt.show()"
   ]
  },
  {
   "cell_type": "code",
   "execution_count": null,
   "id": "f706d012",
   "metadata": {},
   "outputs": [],
   "source": []
  }
 ],
 "metadata": {
  "kernelspec": {
   "display_name": "Python 3",
   "language": "python",
   "name": "python3"
  },
  "language_info": {
   "codemirror_mode": {
    "name": "ipython",
    "version": 3
   },
   "file_extension": ".py",
   "mimetype": "text/x-python",
   "name": "python",
   "nbconvert_exporter": "python",
   "pygments_lexer": "ipython3",
   "version": "3.8.8"
  }
 },
 "nbformat": 4,
 "nbformat_minor": 5
}
